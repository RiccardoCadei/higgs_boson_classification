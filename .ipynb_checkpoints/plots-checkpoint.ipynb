{
 "cells": [
  {
   "cell_type": "code",
   "execution_count": 61,
   "metadata": {},
   "outputs": [
    {
     "name": "stdout",
     "output_type": "stream",
     "text": [
      "The autoreload extension is already loaded. To reload it, use:\n",
      "  %reload_ext autoreload\n"
     ]
    }
   ],
   "source": [
    "# Useful starting lines\n",
    "import numpy as np\n",
    "from helpers import *\n",
    "from methods import *\n",
    "from process_data import *\n",
    "from crossvalidation import *\n",
    "from select_parameter import *\n",
    "\n",
    "import matplotlib.pyplot as plt    \n",
    "%load_ext autoreload\n",
    "%autoreload 2\n",
    "\n",
    "seed=10"
   ]
  },
  {
   "cell_type": "code",
   "execution_count": 4,
   "metadata": {},
   "outputs": [],
   "source": [
    "from zipfile import ZipFile \n",
    "  \n",
    "# # specifying the zip file name \n",
    "file_name = 'Data/test.csv.zip'\n",
    "  \n",
    "# opening the zip file in READ mode \n",
    "with ZipFile(file_name, 'r') as zip: \n",
    "    zip.extractall('Data/') "
   ]
  },
  {
   "cell_type": "code",
   "execution_count": 69,
   "metadata": {},
   "outputs": [],
   "source": [
    "def accuracy_per_parameters(degrees, lambdas, alphas, k_fold, y, tX, jet):\n",
    "    \n",
    "    # condider a specific jet\n",
    "    msk_jets = get_jet_masks(tX)\n",
    "    tX = tX[msk_jets[jet]]\n",
    "    y = y[msk_jets[jet]]\n",
    "    \n",
    "    # split data in k fold\n",
    "    k_indices = build_k_indices(y, k_fold, seed)\n",
    "    accu = []\n",
    "\n",
    "    for degree in degrees:\n",
    "        for lamb in lambdas:\n",
    "            for alpha in alphas:\n",
    "                accs_test = []\n",
    "                for k in range(k_fold):\n",
    "                        print(degree,lamb,alpha)\n",
    "                        _, acc_test = cross_validation(y, tX, ridge_regression, k_indices, k, degree, alpha, lamb)\n",
    "                        accs_test.append(acc_test)\n",
    "                accu.append(np.mean(accs_test))\n",
    "   \n",
    "    return accu"
   ]
  },
  {
   "cell_type": "code",
   "execution_count": 11,
   "metadata": {},
   "outputs": [],
   "source": [
    "y, tX, ids = load_csv_data('Data/train.csv')\n",
    "_, tX_test, ids_test = load_csv_data('Data/test.csv')"
   ]
  },
  {
   "cell_type": "markdown",
   "metadata": {},
   "source": [
    "# Comparing the 6 methods"
   ]
  },
  {
   "cell_type": "markdown",
   "metadata": {},
   "source": [
    "we observe that Ridge is the best"
   ]
  },
  {
   "cell_type": "markdown",
   "metadata": {},
   "source": [
    "# Grid Search to set the best parameter"
   ]
  },
  {
   "cell_type": "markdown",
   "metadata": {},
   "source": [
    "copy the code from the main"
   ]
  },
  {
   "cell_type": "markdown",
   "metadata": {},
   "source": [
    "### How accuracy change with the parameters?"
   ]
  },
  {
   "cell_type": "markdown",
   "metadata": {},
   "source": [
    "We evalute how accuracy change fixing 2 parameters per time"
   ]
  },
  {
   "cell_type": "markdown",
   "metadata": {},
   "source": [
    "### Alpha \n",
    "finxing degree and "
   ]
  },
  {
   "cell_type": "code",
   "execution_count": 70,
   "metadata": {
    "tags": [
     "outputPrepend"
    ]
   },
   "outputs": [
    {
     "name": "stdout",
     "output_type": "stream",
     "text": [
      "7/1,1e-06/1,0/10\n",
      "0.850378332932981 0.850378332932981\n",
      "7/1,1e-06/1,0/10\n",
      "0.851609416286332 0.8458743694451117\n",
      "7/1,1e-06/1,0/10\n",
      "0.8497477780446793 0.8503483065097286\n",
      "7/1,1e-06/1,1/10\n",
      "0.8512490992073024 0.8518496276723516\n",
      "7/1,1e-06/1,1/10\n",
      "0.8532458563535912 0.8466550564496758\n",
      "7/1,1e-06/1,1/10\n",
      "0.8510689406677876 0.8511590199375451\n",
      "7/1,1e-06/1,2/10\n",
      "0.8511740331491713 0.8523600768676435\n",
      "7/1,1e-06/1,2/10\n",
      "0.8538914244535191 0.8471955320682201\n",
      "7/1,1e-06/1,2/10\n",
      "0.8511440067259188 0.8518796540956042\n",
      "7/1,1e-06/1,3/10\n",
      "0.8510689406677876 0.8526903675234206\n",
      "7/1,1e-06/1,3/10\n",
      "0.8536962527023781 0.8467451357194331\n",
      "7/1,1e-06/1,3/10\n",
      "0.8513241652654335 0.8520297862118664\n",
      "7/1,1e-06/1,4/10\n",
      "0.8512641124189286 0.8520898390583713\n",
      "7/1,1e-06/1,4/10\n",
      "0.8535311073744896 0.846805188565938\n",
      "7/1,1e-06/1,4/10\n",
      "0.851414244535191 0.8524801825606534\n",
      "7/1,1e-06/1,5/10\n",
      "0.8510989670910402 0.8523600768676435\n",
      "7/1,1e-06/1,5/10\n",
      "0.8533809752582272 0.8462647129473937\n",
      "7/1,1e-06/1,5/10\n",
      "0.8513541916886861 0.8522699975978861\n",
      "7/1,1e-06/1,6/10\n",
      "0.8509788613980303 0.8522699975978861\n",
      "7/1,1e-06/1,6/10\n",
      "0.8537112659140044 0.8467751621426856\n",
      "7/1,1e-06/1,6/10\n",
      "0.851414244535191 0.8517295219793418\n",
      "7/1,1e-06/1,7/10\n",
      "0.8509037953398991 0.8516394427095845\n",
      "7/1,1e-06/1,7/10\n",
      "0.8536812394907518 0.8462346865241412\n",
      "7/1,1e-06/1,7/10\n",
      "0.8513842181119385 0.8515193370165746\n",
      "7/1,1e-06/1,8/10\n",
      "0.8504383857794859 0.8514893105933221\n",
      "7/1,1e-06/1,8/10\n",
      "0.8535160941628633 0.8469853471054528\n",
      "7/1,1e-06/1,8/10\n",
      "0.8513391784770599 0.8518796540956042\n",
      "7/1,1e-06/1,9/10\n",
      "0.8502732404515974 0.8518496276723516\n",
      "7/1,1e-06/1,9/10\n",
      "0.8532758827768436 0.8467151092961807\n",
      "7/1,1e-06/1,9/10\n",
      "0.8509788613980303 0.8515193370165746\n"
     ]
    }
   ],
   "source": [
    "# Model parameters for ridge regression\n",
    "#tuning parameters for each category\n",
    "degrees = [7]\n",
    "alphas=np.arange(10)\n",
    "lambdas=[1e-6]\n",
    "k_fold = 3\n",
    "jet=0\n",
    "\n",
    "accu = accuracy_per_parameters(degrees, lambdas, alphas, k_fold, y, tX, jet)"
   ]
  },
  {
   "cell_type": "code",
   "execution_count": 73,
   "metadata": {},
   "outputs": [
    {
     "data": {
      "image/png": "[encoded data removed]",
      "text/plain": [
       "<Figure size 432x288 with 1 Axes>"
      ]
     },
     "metadata": {
      "needs_background": "light"
     },
     "output_type": "display_data"
    }
   ],
   "source": [
    "plt.plot(alphas,accu,'b--',  alpha=0.8)\n",
    "plt.show()"
   ]
  },
  {
   "cell_type": "code",
   "execution_count": null,
   "metadata": {},
   "outputs": [],
   "source": [
    "# DEgree ..."
   ]
  }
 ],
 "metadata": {
  "kernelspec": {
   "display_name": "Python 3",
   "language": "python",
   "name": "python3"
  },
  "language_info": {
   "codemirror_mode": {
    "name": "ipython",
    "version": 3
   },
   "file_extension": ".py",
   "mimetype": "text/x-python",
   "name": "python",
   "nbconvert_exporter": "python",
   "pygments_lexer": "ipython3",
   "version": "3.8.3"
  }
 },
 "nbformat": 4,
 "nbformat_minor": 2
}
