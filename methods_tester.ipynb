{
 "metadata": {
  "language_info": {
   "codemirror_mode": {
    "name": "ipython",
    "version": 3
   },
   "file_extension": ".py",
   "mimetype": "text/x-python",
   "name": "python",
   "nbconvert_exporter": "python",
   "pygments_lexer": "ipython3",
   "version": "3.7.4-final"
  },
  "orig_nbformat": 2,
  "kernelspec": {
   "name": "Python 3.7.4 64-bit ('base': conda)",
   "display_name": "Python 3.7.4 64-bit ('base': conda)",
   "metadata": {
    "interpreter": {
     "hash": "dca0ade3e726a953b501b15e8e990130d2b7799f14cfd9f4271676035ebe5511"
    }
   }
  }
 },
 "nbformat": 4,
 "nbformat_minor": 2,
 "cells": [
  {
   "cell_type": "code",
   "execution_count": 57,
   "metadata": {},
   "outputs": [
    {
     "output_type": "stream",
     "name": "stdout",
     "text": [
      "The autoreload extension is already loaded. To reload it, use:\n  %reload_ext autoreload\n"
     ]
    }
   ],
   "source": [
    "# Useful starting lines\n",
    "import numpy as np\n",
    "from helpers import *\n",
    "from methods import *\n",
    "from process_data import *\n",
    "from crossvalidation import *\n",
    "from select_parameter import *\n",
    "from matplotlib import pyplot as plt    \n",
    "seed=10\n",
    "%load_ext autoreload\n",
    "%autoreload 2\n",
    "y, tX, ids = load_csv_data('Data/train.csv')\n",
    "_, tX_test, ids_test = load_csv_data('Data/test.csv')\n",
    "tX, tX_test = process_data(tX, tX_test, 0)"
   ]
  },
  {
   "source": [
    "# Linear Model Methods"
   ],
   "cell_type": "markdown",
   "metadata": {}
  },
  {
   "source": [
    "w,_= least_squares(y, tX)"
   ],
   "cell_type": "code",
   "metadata": {},
   "execution_count": 58,
   "outputs": []
  },
  {
   "cell_type": "code",
   "execution_count": 60,
   "metadata": {},
   "outputs": [],
   "source": [
    "w, _ = least_squares_GD(y,tX,gamma=0.0001)"
   ]
  },
  {
   "cell_type": "code",
   "execution_count": 62,
   "metadata": {},
   "outputs": [
    {
     "output_type": "stream",
     "name": "stdout",
     "text": [
      "SGD(0/49): loss=4.348775551502362\n",
      "SGD(10/49): loss=4.335238567344833\n",
      "SGD(20/49): loss=4.27534164482675\n",
      "SGD(30/49): loss=4.274093520082355\n",
      "SGD(40/49): loss=4.254266116579243\n"
     ]
    }
   ],
   "source": [
    "w, _ =least_squares_SGD(y,tX,gamma=0.0001)"
   ]
  },
  {
   "cell_type": "code",
   "execution_count": 64,
   "metadata": {},
   "outputs": [],
   "source": [
    "w,_ = ridge_regression(y,tX,1)"
   ]
  },
  {
   "cell_type": "code",
   "execution_count": 65,
   "metadata": {},
   "outputs": [
    {
     "output_type": "execute_result",
     "data": {
      "text/plain": [
       "0.72232"
      ]
     },
     "metadata": {},
     "execution_count": 65
    }
   ],
   "source": [
    "y_pred = predict_labels(w, tX)\n",
    "compute_accuracy(y_pred,y)"
   ]
  },
  {
   "source": [
    "# Logistic Based Methods"
   ],
   "cell_type": "markdown",
   "metadata": {}
  },
  {
   "cell_type": "code",
   "execution_count": 66,
   "metadata": {},
   "outputs": [
    {
     "output_type": "stream",
     "name": "stdout",
     "text": [
      "342219.19509303913 0 /100\n",
      "330293.7244245275 20 /100\n",
      "314036.3890089138 40 /100\n",
      "295899.99960071506 60 /100\n",
      "286932.9166940045 80 /100\n"
     ]
    }
   ],
   "source": [
    "w,_ = logistic_regression(y,tX)"
   ]
  },
  {
   "cell_type": "code",
   "execution_count": 68,
   "metadata": {},
   "outputs": [
    {
     "output_type": "stream",
     "name": "stdout",
     "text": [
      "389904.2187656921 0 /100\n",
      "384270.1264346612 1 /100\n",
      "378811.3302361696 2 /100\n",
      "366699.21049095097 3 /100\n",
      "360709.5925819976 4 /100\n",
      "356164.84234418685 5 /100\n",
      "351459.11868227273 6 /100\n",
      "347545.11531961395 7 /100\n",
      "343049.49284667545 8 /100\n",
      "338573.71993482707 9 /100\n",
      "332472.0888069255 10 /100\n",
      "328208.52153082745 11 /100\n",
      "313653.84351192566 12 /100\n",
      "309544.2661674574 13 /100\n",
      "305895.0744436 14 /100\n",
      "302697.49535095703 15 /100\n",
      "297897.0242332241 16 /100\n",
      "293990.6339977113 17 /100\n",
      "288812.72643203154 18 /100\n",
      "285091.50111400266 19 /100\n",
      "282129.565301678 20 /100\n",
      "279015.5178366066 21 /100\n",
      "275791.848337649 22 /100\n",
      "273020.1931552167 23 /100\n",
      "270658.51514753076 24 /100\n",
      "267929.6292341105 25 /100\n",
      "265494.38775242324 26 /100\n",
      "259767.44186580108 27 /100\n",
      "255594.09990274152 28 /100\n",
      "253322.1813697614 29 /100\n",
      "251336.93597205868 30 /100\n",
      "249214.84818701845 31 /100\n",
      "247183.5968113441 32 /100\n",
      "245111.07973486546 33 /100\n",
      "243903.3065947823 34 /100\n",
      "242459.05446850238 35 /100\n",
      "240297.58606433222 36 /100\n",
      "236379.07626945924 37 /100\n",
      "233970.27125179683 38 /100\n",
      "232862.45857330738 39 /100\n",
      "231510.64926751764 40 /100\n",
      "228197.75390532255 41 /100\n",
      "226607.27564245617 42 /100\n",
      "225153.78054677372 43 /100\n",
      "223635.15408787073 44 /100\n",
      "214594.98099952374 45 /100\n",
      "213771.7080091115 46 /100\n",
      "207191.58092521547 47 /100\n",
      "204989.9024734089 48 /100\n",
      "204072.73140033698 49 /100\n",
      "203177.00963355871 50 /100\n",
      "201652.44330731547 51 /100\n",
      "200732.91656195748 52 /100\n",
      "199930.16840041446 53 /100\n",
      "198044.66230374266 54 /100\n",
      "196191.03423624556 55 /100\n",
      "195302.84451632557 56 /100\n",
      "193544.3819618226 57 /100\n",
      "192741.03407779004 58 /100\n",
      "189979.0927903912 59 /100\n",
      "190099.84458125662 60 /100\n",
      "189358.21630532594 61 /100\n",
      "189344.08588081208 62 /100\n",
      "186521.24159709216 63 /100\n",
      "184161.8630792952 64 /100\n",
      "183678.01783368122 65 /100\n",
      "183239.78600714417 66 /100\n",
      "181852.98678016022 67 /100\n",
      "179154.76948052619 68 /100\n",
      "177924.5099120808 69 /100\n",
      "177654.72804325994 70 /100\n",
      "177200.3548095451 71 /100\n",
      "177049.60854305996 72 /100\n",
      "176314.25758831197 73 /100\n",
      "176056.23157008813 74 /100\n",
      "175129.2627909383 75 /100\n",
      "173240.03132357376 76 /100\n",
      "171724.63538799167 77 /100\n",
      "170938.40996470675 78 /100\n",
      "170877.73212872448 79 /100\n",
      "170515.26505052374 80 /100\n",
      "169651.26611787846 81 /100\n",
      "170261.8575742106 82 /100\n",
      "169746.32445609348 83 /100\n",
      "170186.9587548453 84 /100\n",
      "169060.3983162169 85 /100\n",
      "168828.87657497908 86 /100\n",
      "167878.68064510406 87 /100\n",
      "167496.84377633512 88 /100\n",
      "165851.4879955696 89 /100\n",
      "165788.40434681674 90 /100\n",
      "164962.17065727455 91 /100\n",
      "163437.90973048503 92 /100\n",
      "162770.8383727638 93 /100\n",
      "162557.50297191628 94 /100\n",
      "162625.25963530212 95 /100\n",
      "162925.89771585443 96 /100\n",
      "162313.589822909 97 /100\n",
      "162873.6816842782 98 /100\n",
      "163588.92987953415 99 /100\n"
     ]
    }
   ],
   "source": [
    "w,_ = reg_logistic_regression(y,tX,1)"
   ]
  },
  {
   "cell_type": "code",
   "execution_count": 69,
   "metadata": {},
   "outputs": [
    {
     "output_type": "execute_result",
     "data": {
      "text/plain": [
       "0.222548"
      ]
     },
     "metadata": {},
     "execution_count": 69
    }
   ],
   "source": [
    "y_pred = predict_labels_logistic(w,tX)\n",
    "compute_accuracy(y_pred,y)"
   ]
  },
  {
   "cell_type": "code",
   "execution_count": null,
   "metadata": {},
   "outputs": [],
   "source": []
  }
 ]
}