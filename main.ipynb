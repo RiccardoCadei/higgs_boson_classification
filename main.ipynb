{
 "cells": [
  {
   "cell_type": "code",
   "execution_count": 1,
   "metadata": {},
   "outputs": [],
   "source": [
    "# Useful starting lines\n",
    "import numpy as np\n",
    "from helpers import *\n",
    "from methods import *\n",
    "from process_data import *\n",
    "from crossValidation import *\n",
    "\n",
    "%load_ext autoreload\n",
    "%autoreload 2\n",
    "\n",
    "seed=20"
   ]
  },
  {
   "cell_type": "markdown",
   "metadata": {},
   "source": [
    "# Load the dataset"
   ]
  },
  {
   "cell_type": "code",
   "execution_count": 32,
   "metadata": {},
   "outputs": [],
   "source": [
    "y, tX, ids = load_csv_data('Data/train.csv')\n",
    "_, tX_test, ids_test = load_csv_data('Data/test.csv')"
   ]
  },
  {
   "cell_type": "markdown",
   "metadata": {},
   "source": [
    "# Preprocessing"
   ]
  },
  {
   "cell_type": "markdown",
   "metadata": {},
   "source": [
    "### Umbalanced Dataset"
   ]
  },
  {
   "cell_type": "code",
   "execution_count": 34,
   "metadata": {},
   "outputs": [
    {
     "name": "stdout",
     "output_type": "stream",
     "text": [
      "From 250000 training examples, 85667 are 1, i.e. the 0.342668 %\n"
     ]
    }
   ],
   "source": [
    "higgs = np.count_nonzero(y==1)\n",
    "print(f'From {y.shape[0]} training examples, {higgs} are 1, i.e. the {higgs/y.shape[0]} %')"
   ]
  },
  {
   "cell_type": "markdown",
   "metadata": {},
   "source": [
    "IDEA: We could use Undersampling\\Oversampling alghoritms"
   ]
  },
  {
   "cell_type": "markdown",
   "metadata": {},
   "source": [
    "### Manage missing values"
   ]
  },
  {
   "cell_type": "code",
   "execution_count": 36,
   "metadata": {},
   "outputs": [],
   "source": [
    "tX, tX_test = missing_values(tX, tX_test)"
   ]
  },
  {
   "cell_type": "markdown",
   "metadata": {},
   "source": [
    "SUPERIDEA: SLIT THE DATASET IN 4 CLASSES"
   ]
  },
  {
   "cell_type": "markdown",
   "metadata": {},
   "source": [
    "### Standardization"
   ]
  },
  {
   "cell_type": "code",
   "execution_count": 38,
   "metadata": {},
   "outputs": [],
   "source": [
    "tX, mean_tX, std_tX = standardize(tX)\n",
    "tX_test, _, _ = standardize(tX_test, mean_tX, std_tX)"
   ]
  },
  {
   "cell_type": "code",
   "execution_count": 43,
   "metadata": {},
   "outputs": [
    {
     "data": {
      "text/plain": [
       "(568238, 31)"
      ]
     },
     "execution_count": 43,
     "metadata": {},
     "output_type": "execute_result"
    }
   ],
   "source": [
    "tX_test.shape"
   ]
  },
  {
   "cell_type": "markdown",
   "metadata": {},
   "source": [
    "### Other Ideas\n",
    "\n",
    "1. New features: Apply a polynomial basis to all the X features\n",
    "\n",
    "2. PCA, correlation analysis (scatterplot, VIF, ...), manage the 0s in the last feature\n",
    "\n",
    "3. Outlayer analysis, leverages, cook's metric ..."
   ]
  },
  {
   "cell_type": "code",
   "execution_count": 42,
   "metadata": {},
   "outputs": [],
   "source": [
    "tX, tX_test = process_data(tX, tX_test, True)"
   ]
  },
  {
   "cell_type": "markdown",
   "metadata": {},
   "source": [
    "# Methods"
   ]
  },
  {
   "cell_type": "markdown",
   "metadata": {},
   "source": [
    "## 1. Least Squares with Gradient Descent"
   ]
  },
  {
   "cell_type": "code",
   "execution_count": null,
   "metadata": {},
   "outputs": [],
   "source": [
    "loss, weights = least_squares_GD(y, tX,initial_w=np.zeros(tX.shape[1]), max_iters=1000, gamma=0.005)\n",
    "\n",
    "# it shoud be in this form\n",
    "# loss, weights = least_squares_GD(y, tx, initial w, max_iters, gamma)"
   ]
  },
  {
   "cell_type": "markdown",
   "metadata": {},
   "source": [
    "## 2. Least Squares with Stochastic Gradient Descent"
   ]
  },
  {
   "cell_type": "code",
   "execution_count": null,
   "metadata": {},
   "outputs": [],
   "source": [
    "# yet to be implemented\n",
    "loss, weights = least_squares_SGD(y, tX, initial_w=np.zeros(tX.shape[1]), batch_size=len(y), max_iters=1000, gamma=0.005)"
   ]
  },
  {
   "cell_type": "markdown",
   "metadata": {},
   "source": [
    "## 3. Least Squares with Normal Equations "
   ]
  },
  {
   "cell_type": "code",
   "execution_count": 68,
   "metadata": {},
   "outputs": [],
   "source": [
    "loss, weights = least_squares(y, tX)"
   ]
  },
  {
   "cell_type": "markdown",
   "metadata": {},
   "source": [
    "## 4. Ridge regression with Normal Equations"
   ]
  },
  {
   "cell_type": "code",
   "execution_count": 73,
   "metadata": {},
   "outputs": [],
   "source": [
    "loss, weights = ridge_regression(y, tX, 0.2)"
   ]
  },
  {
   "cell_type": "markdown",
   "metadata": {},
   "source": [
    "## 5. Logistic Regression with Stochastic Gradient Descent\n"
   ]
  },
  {
   "cell_type": "code",
   "execution_count": 16,
   "metadata": {},
   "outputs": [
    {
     "name": "stdout",
     "output_type": "stream",
     "text": [
      "1.8760657510233796 0 /10000\n",
      "1.8343218776462225 100 /10000\n",
      "1.807628778823334 200 /10000\n",
      "1.765823148981027 300 /10000\n",
      "1.7340189416907177 400 /10000\n",
      "1.7043158829704317 500 /10000\n",
      "1.653869930577796 600 /10000\n",
      "1.6124213016414632 700 /10000\n",
      "1.5720306976343916 800 /10000\n",
      "1.5459395273192031 900 /10000\n",
      "1.52750529850916 1000 /10000\n",
      "1.483773852711879 1100 /10000\n",
      "1.4649316015818925 1200 /10000\n",
      "1.4385850903705848 1300 /10000\n",
      "1.3877052197503865 1400 /10000\n",
      "1.370407755420808 1500 /10000\n",
      "1.356987131100323 1600 /10000\n",
      "1.3215197353188828 1700 /10000\n",
      "1.2881053155063213 1800 /10000\n",
      "1.2586316078136532 1900 /10000\n",
      "1.2422827651024733 2000 /10000\n",
      "1.2286036620024539 2100 /10000\n",
      "1.1995289507705293 2200 /10000\n",
      "1.1786971893714477 2300 /10000\n",
      "1.1645750079876753 2400 /10000\n",
      "1.1505134705467184 2500 /10000\n",
      "1.1322418817055724 2600 /10000\n",
      "1.121959777340855 2700 /10000\n",
      "1.1033686195404966 2800 /10000\n",
      "1.0922332565263309 2900 /10000\n",
      "1.0739384838293473 3000 /10000\n",
      "1.0472990353018254 3100 /10000\n",
      "1.0368610817540556 3200 /10000\n",
      "1.0216025259494128 3300 /10000\n",
      "1.0010885365731783 3400 /10000\n",
      "0.9881425139526706 3500 /10000\n",
      "0.9740240755356474 3600 /10000\n",
      "0.9670110855389839 3700 /10000\n",
      "0.9517979839610127 3800 /10000\n",
      "0.9358680242896441 3900 /10000\n",
      "0.920828071711143 4000 /10000\n",
      "0.9079236843290264 4100 /10000\n",
      "0.89675257179814 4200 /10000\n",
      "0.8854631214063545 4300 /10000\n",
      "0.8748858726425703 4400 /10000\n",
      "0.8602450983578677 4500 /10000\n",
      "0.8509251441503128 4600 /10000\n",
      "0.8455520734716111 4700 /10000\n",
      "0.8383374095688104 4800 /10000\n",
      "0.8291411192835401 4900 /10000\n",
      "0.8264069591791211 5000 /10000\n",
      "0.8177307796034533 5100 /10000\n",
      "0.8008802288522211 5200 /10000\n",
      "0.7940526582657552 5300 /10000\n",
      "0.7879627529035577 5400 /10000\n",
      "0.7815999073352774 5500 /10000\n",
      "0.7776097906460842 5600 /10000\n",
      "0.7697687385621964 5700 /10000\n",
      "0.763222011089102 5800 /10000\n",
      "0.7552762357565053 5900 /10000\n",
      "0.7455245693960953 6000 /10000\n",
      "0.7398262385803135 6100 /10000\n",
      "0.7350269143629223 6200 /10000\n",
      "0.7292601028127894 6300 /10000\n",
      "0.7234529971489356 6400 /10000\n",
      "0.7159151142969902 6500 /10000\n",
      "0.7120106223861985 6600 /10000\n",
      "0.7087963270818806 6700 /10000\n",
      "0.7055186085102366 6800 /10000\n",
      "0.7001930280111115 6900 /10000\n",
      "0.6969936688995675 7000 /10000\n",
      "0.69454743377975 7100 /10000\n",
      "0.6888337170380184 7200 /10000\n",
      "0.6876676711859218 7300 /10000\n",
      "0.6835656493564942 7400 /10000\n",
      "0.6758230874476931 7500 /10000\n",
      "0.670707381675162 7600 /10000\n",
      "0.6679596914919885 7700 /10000\n",
      "0.666154714491332 7800 /10000\n",
      "0.6619186246899357 7900 /10000\n",
      "0.6578761151929933 8000 /10000\n",
      "0.6533800340307766 8100 /10000\n",
      "0.6514537562439884 8200 /10000\n",
      "0.6457074802561469 8300 /10000\n",
      "0.6431521362256506 8400 /10000\n",
      "0.63926072340293 8500 /10000\n",
      "0.636665330511064 8600 /10000\n",
      "0.6338002194041413 8700 /10000\n",
      "0.6306224540101782 8800 /10000\n",
      "0.6284740789668288 8900 /10000\n",
      "0.6263676724062075 9000 /10000\n",
      "0.6237564094918112 9100 /10000\n",
      "0.6204625319647079 9200 /10000\n",
      "0.617521036206477 9300 /10000\n",
      "0.6152874077102214 9400 /10000\n",
      "0.6125468668985438 9500 /10000\n",
      "0.6103907672631109 9600 /10000\n",
      "0.6077771572812363 9700 /10000\n",
      "0.605179977210674 9900 /10000\n"
     ]
    }
   ],
   "source": [
    "loss, weights = logistic_regression(y, tX,initial_w= np.random.random(tX.shape[1]), batch_size=1, max_iter=10000, gamma=0.0009)"
   ]
  },
  {
   "cell_type": "markdown",
   "metadata": {},
   "source": [
    "## 6. Regularized Logistic Regression with Stochastic Gradient Descent"
   ]
  },
  {
   "cell_type": "code",
   "execution_count": null,
   "metadata": {},
   "outputs": [],
   "source": [
    "# yet to be implemented\n",
    "# loss, weights = reg_logistic regression(y, tX, initial w, max_iters, gamma)"
   ]
  },
  {
   "cell_type": "markdown",
   "metadata": {},
   "source": [
    "# Cross Validation\n",
    "IDEA: insert CV in each of the methods above"
   ]
  },
  {
   "cell_type": "code",
   "execution_count": null,
   "metadata": {},
   "outputs": [],
   "source": [
    "# To evaluate the best lambda that minimizes the test error\n",
    "loss, weights, best_lambda = cross_validation_ridge_regression(y,tX)"
   ]
  },
  {
   "cell_type": "code",
   "execution_count": null,
   "metadata": {},
   "outputs": [],
   "source": [
    "# To evaluate the mean test error that we expect, the third argument should be one of the 6 methods used  \n",
    "loss = cross_validation_general(y,tX,fun,logistic_regression,k_fold = 4)"
   ]
  },
  {
   "cell_type": "markdown",
   "metadata": {},
   "source": [
    "# Prediction"
   ]
  },
  {
   "cell_type": "markdown",
   "metadata": {},
   "source": [
    "#### Generate predictions and save ouput in csv format for submission"
   ]
  },
  {
   "cell_type": "code",
   "execution_count": 74,
   "metadata": {},
   "outputs": [],
   "source": [
    "# Only for non logistic methods\n",
    "y_pred = predict_labels(weights, tX_test)"
   ]
  },
  {
   "cell_type": "code",
   "execution_count": 44,
   "metadata": {},
   "outputs": [],
   "source": [
    "# Only for Logistic methods\n",
    "y_pred = sigmoid(tX_test@weights)\n",
    "y_pred[y_pred <0.5] = -1\n",
    "y_pred[y_pred > 0.5] = 1"
   ]
  },
  {
   "cell_type": "code",
   "execution_count": 45,
   "metadata": {},
   "outputs": [
    {
     "data": {
      "text/plain": [
       "(568238, 31)"
      ]
     },
     "execution_count": 45,
     "metadata": {},
     "output_type": "execute_result"
    }
   ],
   "source": [
    "tX_test.shape"
   ]
  },
  {
   "cell_type": "code",
   "execution_count": 46,
   "metadata": {},
   "outputs": [],
   "source": [
    "OUTPUT_PATH = 'data/FIRSTsubmission.csv' \n",
    "create_csv_submission(ids_test, y_pred, OUTPUT_PATH)"
   ]
  },
  {
   "cell_type": "markdown",
   "metadata": {},
   "source": [
    "ATTENTION: we are prediction too LESS 1"
   ]
  },
  {
   "cell_type": "code",
   "execution_count": 20,
   "metadata": {},
   "outputs": [
    {
     "name": "stdout",
     "output_type": "stream",
     "text": [
      "From 250000 test examples, 23364 are 1, i.e. the 0.093456 %\n"
     ]
    }
   ],
   "source": [
    "higgs = np.count_nonzero(y_pred==1)\n",
    "print(f'From {y_pred.shape[0]} test examples, {higgs} are 1, i.e. the {higgs/y_pred.shape[0]} %')"
   ]
  },
  {
   "cell_type": "code",
   "execution_count": null,
   "metadata": {},
   "outputs": [],
   "source": []
  }
 ],
 "metadata": {
  "anaconda-cloud": {},
  "kernelspec": {
   "display_name": "Python 3",
   "language": "python",
   "name": "python3"
  },
  "language_info": {
   "codemirror_mode": {
    "name": "ipython",
    "version": 3
   },
   "file_extension": ".py",
   "mimetype": "text/x-python",
   "name": "python",
   "nbconvert_exporter": "python",
   "pygments_lexer": "ipython3",
   "version": "3.7.6"
  }
 },
 "nbformat": 4,
 "nbformat_minor": 4
}
