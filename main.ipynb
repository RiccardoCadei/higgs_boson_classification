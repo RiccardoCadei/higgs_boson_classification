{
 "cells": [
  {
   "cell_type": "code",
   "execution_count": 57,
   "metadata": {},
   "outputs": [
    {
     "name": "stdout",
     "output_type": "stream",
     "text": [
      "The autoreload extension is already loaded. To reload it, use:\n",
      "  %reload_ext autoreload\n"
     ]
    }
   ],
   "source": [
    "# Useful starting lines\n",
    "import numpy as np\n",
    "from helpers import *\n",
    "from methods import *\n",
    "from process_data import *\n",
    "from crossValidation import *\n",
    "\n",
    "%load_ext autoreload\n",
    "%autoreload 2\n",
    "\n",
    "seed=20"
   ]
  },
  {
   "cell_type": "markdown",
   "metadata": {},
   "source": [
    "# Load the dataset"
   ]
  },
  {
   "cell_type": "code",
   "execution_count": 58,
   "metadata": {},
   "outputs": [],
   "source": [
    "y, tX, ids = load_csv_data('Data/train.csv')\n",
    "_, tX_test, ids_test = load_csv_data('Data/test.csv')"
   ]
  },
  {
   "cell_type": "markdown",
   "metadata": {},
   "source": [
    "# Preprocessing"
   ]
  },
  {
   "cell_type": "markdown",
   "metadata": {},
   "source": [
    "### Umbalanced Dataset"
   ]
  },
  {
   "cell_type": "code",
   "execution_count": 59,
   "metadata": {},
   "outputs": [
    {
     "name": "stdout",
     "output_type": "stream",
     "text": [
      "From 250000 training examples, 85667 are 1, i.e. the 0.342668 %\n"
     ]
    }
   ],
   "source": [
    "higgs = np.count_nonzero(y==1)\n",
    "print(f'From {y.shape[0]} training examples, {higgs} are 1, i.e. the {higgs/y.shape[0]} %')"
   ]
  },
  {
   "cell_type": "markdown",
   "metadata": {},
   "source": [
    "IDEA: We could use Undersampling\\Oversampling alghoritms"
   ]
  },
  {
   "cell_type": "markdown",
   "metadata": {},
   "source": [
    "### Manage missing values"
   ]
  },
  {
   "cell_type": "code",
   "execution_count": 60,
   "metadata": {},
   "outputs": [],
   "source": [
    "tX, tX_test = missing_values(tX, tX_test)"
   ]
  },
  {
   "cell_type": "markdown",
   "metadata": {},
   "source": [
    "SUPERIDEA: SLIT THE DATASET IN 4 CLASSES"
   ]
  },
  {
   "cell_type": "markdown",
   "metadata": {},
   "source": [
    "### Standardization"
   ]
  },
  {
   "cell_type": "code",
   "execution_count": 61,
   "metadata": {},
   "outputs": [],
   "source": [
    "tX, mean_tX, std_tX = standardize(tX)\n",
    "tX_test, _, _ = standardize(tX, mean_tX, std_tX)"
   ]
  },
  {
   "cell_type": "markdown",
   "metadata": {},
   "source": [
    "### Other Ideas\n",
    "\n",
    "1. New features: Apply a polynomial basis to all the X features\n",
    "\n",
    "2. PCA, correlation analysis (scatterplot, VIF, ...), manage the 0s in the last feature\n",
    "\n",
    "3. Outlayer analysis, leverages, cook's metric ..."
   ]
  },
  {
   "cell_type": "code",
   "execution_count": 62,
   "metadata": {},
   "outputs": [],
   "source": [
    "tX, tX_test = process_data(tX, tX_test, True)"
   ]
  },
  {
   "cell_type": "markdown",
   "metadata": {},
   "source": [
    "# Methods"
   ]
  },
  {
   "cell_type": "markdown",
   "metadata": {},
   "source": [
    "## 1. Least Squares with Gradient Descent"
   ]
  },
  {
   "cell_type": "code",
   "execution_count": null,
   "metadata": {},
   "outputs": [],
   "source": [
    "loss, weights = least_squares_GD(y, tX,initial_w=np.zeros(tX.shape[1]), max_iters=1000, gamma=0.005)\n",
    "\n",
    "# it shoud be in this form\n",
    "# loss, weights = least_squares_GD(y, tx, initial w, max_iters, gamma)"
   ]
  },
  {
   "cell_type": "markdown",
   "metadata": {},
   "source": [
    "## 2. Least Squares with Stochastic Gradient Descent"
   ]
  },
  {
   "cell_type": "code",
   "execution_count": null,
   "metadata": {},
   "outputs": [],
   "source": [
    "# yet to be implemented\n",
    "loss, weights = least_squares_SGD(y, tX, initial_w=np.zeros(tX.shape[1]), batch_size=len(y), max_iters=1000, gamma=0.005)"
   ]
  },
  {
   "cell_type": "markdown",
   "metadata": {},
   "source": [
    "## 3. Least Squares with Normal Equations "
   ]
  },
  {
   "cell_type": "code",
   "execution_count": null,
   "metadata": {},
   "outputs": [],
   "source": [
    "loss, weights = least_squares(y, tX)"
   ]
  },
  {
   "cell_type": "markdown",
   "metadata": {},
   "source": [
    "## 4. Ridge regression with Normal Equations"
   ]
  },
  {
   "cell_type": "code",
   "execution_count": null,
   "metadata": {},
   "outputs": [],
   "source": [
    "loss, weights = ridge_regression(y, tX, 0.2)"
   ]
  },
  {
   "cell_type": "markdown",
   "metadata": {},
   "source": [
    "## 5. Logistic Regression with Stochastic Gradient Descent\n"
   ]
  },
  {
   "cell_type": "code",
   "execution_count": 63,
   "metadata": {},
   "outputs": [
    {
     "name": "stdout",
     "output_type": "stream",
     "text": [
      "1.8614196449298754 0\n",
      "1.4333472171211803 100\n",
      "1.0963476889892865 200\n",
      "0.9364205099190525 300\n",
      "0.8734655704252565 400\n",
      "0.7933279099340146 500\n",
      "0.7368460836419479 600\n",
      "0.6908219426809794 700\n",
      "0.6798648442378751 800\n",
      "0.6522215602381745 900\n",
      "0.6352015917934073 1000\n",
      "0.6216533665465771 1100\n",
      "0.6003762220633629 1200\n",
      "0.5917461482590161 1300\n",
      "0.5864179278140118 1400\n",
      "0.5757797362076212 1500\n",
      "0.5725568691496066 1600\n",
      "0.5709883962196326 1700\n",
      "0.5718515027601141 1800\n",
      "0.5671521398425208 1900\n",
      "0.5662407331088641 2000\n",
      "0.5696044854238606 2100\n",
      "0.5595295601866465 2200\n",
      "0.5479165723161693 2300\n",
      "0.5486464793952013 2400\n",
      "0.5442383067093617 2500\n",
      "0.5409730136314191 2600\n",
      "0.536389927324239 2700\n",
      "0.536574128801716 2800\n",
      "0.5347348795831981 2900\n",
      "0.5327237123787815 3000\n",
      "0.5305314600748509 3100\n",
      "0.5352886003658253 3200\n",
      "0.5353894081909154 3300\n",
      "0.5300891696904731 3400\n",
      "0.5307856746593411 3500\n",
      "0.527119845052708 3600\n",
      "0.5356919230721376 3700\n",
      "0.5410413644747849 3800\n",
      "0.5443295287899923 3900\n",
      "0.5298856008912131 4000\n",
      "0.5242122347595645 4100\n",
      "0.5268798778355196 4200\n",
      "0.5324371196964321 4300\n",
      "0.5218890665096787 4400\n",
      "0.5273171280578981 4500\n",
      "0.5265892852490786 4600\n",
      "0.5211224720153339 4700\n",
      "0.5240064891118064 4800\n",
      "0.5201168954009525 4900\n",
      "0.518793073413825 5000\n",
      "0.5194525547806181 5100\n",
      "0.5268456938766815 5200\n",
      "0.5305255204600583 5300\n",
      "0.5215979031480578 5400\n",
      "0.5243254794723977 5500\n",
      "0.5221453540483385 5600\n",
      "0.5228231864488633 5700\n",
      "0.5193131781660798 5800\n",
      "0.5193464889397074 5900\n",
      "0.5248518038129368 6000\n",
      "0.5223316236452491 6100\n",
      "0.5230740986810473 6200\n",
      "0.5189647168751844 6300\n",
      "0.519333204280555 6400\n",
      "0.5187017575482348 6500\n",
      "0.520837140286015 6600\n",
      "0.5153292515259035 6700\n",
      "0.5182743248083813 6800\n",
      "0.5330872038208818 6900\n",
      "0.5234974571261444 7000\n",
      "0.5256027397969976 7100\n",
      "0.5205183550565997 7200\n",
      "0.5148666704284982 7300\n",
      "0.5171965284893763 7400\n",
      "0.5266104945057452 7500\n",
      "0.5165331986256795 7600\n",
      "0.5125623191280565 7700\n",
      "0.5675731561743991 7800\n",
      "0.5275566657886225 7900\n",
      "0.5185535985825535 8000\n",
      "0.5156227617705672 8100\n",
      "0.5117421118941322 8200\n",
      "0.5150708820967376 8300\n",
      "0.5113076426553882 8400\n",
      "0.5089261556811008 8500\n",
      "0.5113343979331921 8600\n",
      "0.5328805403250448 8700\n",
      "0.5139188240237202 8800\n",
      "0.5193331249923774 8900\n",
      "0.5257291034989012 9000\n",
      "0.5179548534769158 9100\n",
      "0.5169722839891692 9200\n",
      "0.5149221036903201 9300\n",
      "0.5135927401801345 9400\n",
      "0.5158881948307765 9500\n",
      "0.5142284478991545 9600\n",
      "0.518949101267969 9700\n",
      "0.5122640976112472 9800\n",
      "0.5108409411921699 9900\n"
     ]
    }
   ],
   "source": [
    "loss, weights = logistic_regression(y, tX,initial_w= np.random.random(tX.shape[1]))"
   ]
  },
  {
   "cell_type": "markdown",
   "metadata": {},
   "source": [
    "## 6. Regularized Logistic Regression with Stochastic Gradient Descent"
   ]
  },
  {
   "cell_type": "code",
   "execution_count": null,
   "metadata": {},
   "outputs": [],
   "source": [
    "# yet to be implemented\n",
    "# loss, weights = reg_logistic regression_SGD(y, tX, initial w, max_iters, gamma)"
   ]
  },
  {
   "cell_type": "markdown",
   "metadata": {},
   "source": [
    "# Cross Validation\n",
    "IDEA: insert CV in each of the methods above"
   ]
  },
  {
   "cell_type": "code",
   "execution_count": null,
   "metadata": {},
   "outputs": [],
   "source": [
    "loss, weights, best_lambda = cross_validation_ridge_regression(y,tX)"
   ]
  },
  {
   "cell_type": "markdown",
   "metadata": {},
   "source": [
    "# Prediction"
   ]
  },
  {
   "cell_type": "markdown",
   "metadata": {},
   "source": [
    "#### Generate predictions and save ouput in csv format for submission"
   ]
  },
  {
   "cell_type": "code",
   "execution_count": null,
   "metadata": {},
   "outputs": [],
   "source": [
    "# Only for non logistic methods\n",
    "y_pred = predict_labels(weights, tX_test)"
   ]
  },
  {
   "cell_type": "code",
   "execution_count": 64,
   "metadata": {},
   "outputs": [],
   "source": [
    "# Only for Logistic methods\n",
    "y_pred = sigmoid(tX@weights)\n",
    "y_pred[y_pred <0.5] = -1\n",
    "y_pred[y_pred > 0.5] = 1"
   ]
  },
  {
   "cell_type": "code",
   "execution_count": 65,
   "metadata": {},
   "outputs": [],
   "source": [
    "OUTPUT_PATH = 'data/FIRSTsubmission.csv' \n",
    "create_csv_submission(ids_test, y_pred, OUTPUT_PATH)"
   ]
  },
  {
   "cell_type": "markdown",
   "metadata": {},
   "source": [
    "ATTENTION: we are prediction too LESS 1"
   ]
  },
  {
   "cell_type": "code",
   "execution_count": 66,
   "metadata": {},
   "outputs": [
    {
     "name": "stdout",
     "output_type": "stream",
     "text": [
      "From 250000 test examples, 71173 are 1, i.e. the 0.284692 %\n"
     ]
    }
   ],
   "source": [
    "higgs = np.count_nonzero(y_pred==1)\n",
    "print(f'From {y_pred.shape[0]} test examples, {higgs} are 1, i.e. the {higgs/y_pred.shape[0]} %')"
   ]
  },
  {
   "cell_type": "code",
   "execution_count": null,
   "metadata": {},
   "outputs": [],
   "source": []
  }
 ],
 "metadata": {
  "anaconda-cloud": {},
  "kernelspec": {
   "display_name": "Python 3",
   "language": "python",
   "name": "python3"
  },
  "language_info": {
   "codemirror_mode": {
    "name": "ipython",
    "version": 3
   },
   "file_extension": ".py",
   "mimetype": "text/x-python",
   "name": "python",
   "nbconvert_exporter": "python",
   "pygments_lexer": "ipython3",
   "version": "3.7.6"
  }
 },
 "nbformat": 4,
 "nbformat_minor": 4
}
