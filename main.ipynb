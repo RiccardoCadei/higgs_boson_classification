{
 "cells": [
  {
   "cell_type": "code",
   "execution_count": 1,
   "metadata": {},
   "outputs": [],
   "source": [
    "# Useful starting lines\n",
    "import numpy as np\n",
    "from helpers import *\n",
    "from methods import *\n",
    "\n",
    "%load_ext autoreload\n",
    "%autoreload 2\n",
    "\n",
    "seed=20"
   ]
  },
  {
   "cell_type": "markdown",
   "metadata": {},
   "source": [
    "# Load the dataset"
   ]
  },
  {
   "cell_type": "code",
   "execution_count": 2,
   "metadata": {},
   "outputs": [],
   "source": [
    "y, tX, ids = load_csv_data('Data/train.csv')\n",
    "_, tX_test, ids_test = load_csv_data('Data/test.csv')"
   ]
  },
  {
   "cell_type": "markdown",
   "metadata": {},
   "source": [
    "# Preprocessing"
   ]
  },
  {
   "cell_type": "markdown",
   "metadata": {},
   "source": [
    "### Umbalanced Dataset"
   ]
  },
  {
   "cell_type": "code",
   "execution_count": 3,
   "metadata": {},
   "outputs": [
    {
     "name": "stdout",
     "output_type": "stream",
     "text": [
      "From 250000 training examples, 85667 are 1, i.e. the 0.342668 %\n"
     ]
    }
   ],
   "source": [
    "higgs = np.count_nonzero(y==1)\n",
    "print(f'From {y.shape[0]} training examples, {higgs} are 1, i.e. the {higgs/y.shape[0]} %')"
   ]
  },
  {
   "cell_type": "markdown",
   "metadata": {},
   "source": [
    "IDEA: We could use Undersampling\\Oversampling alghoritms"
   ]
  },
  {
   "cell_type": "markdown",
   "metadata": {},
   "source": [
    "### Manage missing values"
   ]
  },
  {
   "cell_type": "code",
   "execution_count": 4,
   "metadata": {},
   "outputs": [],
   "source": [
    "tX, tX_test = missing_values(tX, tX_test)"
   ]
  },
  {
   "cell_type": "markdown",
   "metadata": {},
   "source": [
    "SUPERIDEA: SLIT THE DATASET IN 4 CLASSES"
   ]
  },
  {
   "cell_type": "markdown",
   "metadata": {},
   "source": [
    "### Standardization"
   ]
  },
  {
   "cell_type": "code",
   "execution_count": 5,
   "metadata": {},
   "outputs": [],
   "source": [
    "tX, mean_tX, std_tX = standardize(tX)\n",
    "tX_test, _, _ = standardize(tX, mean_tX, std_tX)"
   ]
  },
  {
   "cell_type": "markdown",
   "metadata": {},
   "source": [
    "### Other Ideas\n",
    "\n",
    "1. New features: Apply a polynomial basis to all the X features\n",
    "\n",
    "2. PCA, correlation analysis (scatterplot, VIF, ...), manage the 0s in the last feature\n",
    "\n",
    "3. Outlayer analysis, leverages, cook's metric ..."
   ]
  },
  {
   "cell_type": "code",
   "execution_count": 6,
   "metadata": {},
   "outputs": [],
   "source": [
    "tX, tX_test = process_data(tX, tX_test, True)"
   ]
  },
  {
   "cell_type": "markdown",
   "metadata": {},
   "source": [
    "# Methods"
   ]
  },
  {
   "cell_type": "markdown",
   "metadata": {},
   "source": [
    "## 1. Least Squares with Gradient Descent"
   ]
  },
  {
   "cell_type": "code",
   "execution_count": 7,
   "metadata": {},
   "outputs": [
    {
     "name": "stdout",
     "output_type": "stream",
     "text": [
      "Gradient Descent(0/999): loss=12.254705158925876\n",
      "Gradient Descent(100/999): loss=0.5633491182327879\n",
      "Gradient Descent(200/999): loss=0.40414378316478344\n",
      "Gradient Descent(300/999): loss=0.36957250660141455\n",
      "Gradient Descent(400/999): loss=0.35677961402023217\n",
      "Gradient Descent(500/999): loss=0.35049394874542145\n",
      "Gradient Descent(600/999): loss=0.3469351825519043\n",
      "Gradient Descent(700/999): loss=0.34476375807614495\n",
      "Gradient Descent(800/999): loss=0.34337555573620887\n",
      "Gradient Descent(900/999): loss=0.342457221494706\n"
     ]
    }
   ],
   "source": [
    "loss, weights = gradient_descent(y,tX,1000,0.01)\n",
    "\n",
    "# it shoud be in this form\n",
    "# loss, weights = least_squares_GD(y, tx, initial w, max_iters, gamma)"
   ]
  },
  {
   "cell_type": "markdown",
   "metadata": {},
   "source": [
    "## 2. Least Squares with Stochastic Gradient Descent"
   ]
  },
  {
   "cell_type": "code",
   "execution_count": 8,
   "metadata": {},
   "outputs": [],
   "source": [
    "# yet to be implemented\n",
    "# least_squares_SGD(y, tx, initial w, max_iters, gamma)"
   ]
  },
  {
   "cell_type": "markdown",
   "metadata": {},
   "source": [
    "## 3. Least Squares with Normal Equations "
   ]
  },
  {
   "cell_type": "code",
   "execution_count": 9,
   "metadata": {},
   "outputs": [],
   "source": [
    "loss, weights = least_squares(y, tX)"
   ]
  },
  {
   "cell_type": "markdown",
   "metadata": {},
   "source": [
    "## 4. Ridge regression with Normal Equations"
   ]
  },
  {
   "cell_type": "code",
   "execution_count": 105,
   "metadata": {},
   "outputs": [],
   "source": [
    "loss, weights = ridge_regression(y, tX, 0.2)"
   ]
  },
  {
   "cell_type": "markdown",
   "metadata": {},
   "source": [
    "## 5. Logistic Regression with Stochastic Gradient Descent\n",
    "DOESN'T WORK, WHY?\n"
   ]
  },
  {
   "cell_type": "code",
   "execution_count": null,
   "metadata": {},
   "outputs": [],
   "source": [
    "loss, weights = logistic_regression_gradient_descent(y, tX)\n",
    "\n",
    "# it shoud be in this form\n",
    "# loss, weights = logistic regression_SGD(y, tX, initial w, max_iters, gamma)\n",
    "# and we should use SGd rather than GD because it's more efficient"
   ]
  },
  {
   "cell_type": "markdown",
   "metadata": {},
   "source": [
    "## 6. Regularized Logistic Regression with Stochastic Gradient Descent"
   ]
  },
  {
   "cell_type": "code",
   "execution_count": 91,
   "metadata": {},
   "outputs": [],
   "source": [
    "# yet to be implemented\n",
    "# loss, weights = reg_logistic regression_SGD(y, tX, initial w, max_iters, gamma)"
   ]
  },
  {
   "cell_type": "markdown",
   "metadata": {},
   "source": [
    "# Cross Validation\n",
    "IDEA: insert CV in each of the methods above"
   ]
  },
  {
   "cell_type": "code",
   "execution_count": 10,
   "metadata": {},
   "outputs": [
    {
     "name": "stdout",
     "output_type": "stream",
     "text": [
      "0\n",
      "3.3995413986193554 3.400581113583601\n",
      "1\n",
      "3.3995414925438916 3.400581095671064\n",
      "2\n",
      "3.3995416004577677 3.40058108377057\n",
      "3\n",
      "3.399541724438433 3.4005810793984605\n",
      "4\n",
      "3.3995418668704396 3.400581084339863\n",
      "5\n",
      "3.3995420304905317 3.400581100691321\n",
      "6\n",
      "3.3995422184392714 3.400581130909858\n",
      "7\n",
      "3.399542434320157 3.4005811778693538\n",
      "8\n",
      "3.399542682267282 3.4005812449253607\n",
      "9\n",
      "3.3995429670227706 3.400581335989523\n",
      "10\n",
      "3.399543294025345 3.4005814556150042\n",
      "11\n",
      "3.3995436695116084 3.4005816090944823\n",
      "12\n",
      "3.3995441006318394 3.400581802572483\n",
      "13\n",
      "3.399544595582303 3.4005820431741283\n",
      "14\n",
      "3.39954516375639 3.4005823391525447\n",
      "15\n",
      "3.3995458159172047 3.4005827000575573\n",
      "16\n",
      "3.3995465643945253 3.4005831369286827\n",
      "17\n",
      "3.399547423309584 3.4005836625098804\n",
      "18\n",
      "3.399548408830984 3.4005842915305955\n",
      "19\n",
      "3.3995495394673574 3.4005850409353315\n",
      "20\n",
      "3.399550836399396 3.4005859302699633\n",
      "21\n",
      "3.3995523238588916 3.4005869820268946\n",
      "22\n",
      "3.3995540295596 3.4005882220772214\n",
      "23\n",
      "3.399555985187277 3.4005896801561595\n",
      "24\n",
      "3.3995582335140493 3.4005913900989193\n",
      "25\n",
      "3.3995607962434216 3.400593392050624\n",
      "26\n",
      "3.3995637403029404 3.4005957300154943\n",
      "27\n",
      "3.3995671130833176 3.400598455830548\n",
      "28\n",
      "3.399570976148355 3.400601628501787\n",
      "29\n",
      "3.39957539972202 3.4006053155611484\n",
      "30\n",
      "3.3995804638702953 3.400609594244569\n",
      "31\n",
      "3.399586259837196 3.400614552824559\n",
      "32\n",
      "3.3995928915537057 3.4006202921160913\n",
      "33\n",
      "3.3996004773404116 3.4006269271766545\n",
      "34\n",
      "3.3996091518267697 3.400634589223501\n",
      "35\n",
      "3.3996191126324202 3.400643427793464\n",
      "36\n",
      "3.3996304001974527 3.400653613173224\n",
      "37\n",
      "3.399643345714652 3.400665339130543\n",
      "38\n",
      "3.3996581289925296 3.4006788259797514\n",
      "39\n",
      "3.399675004489467 3.40069432401152\n",
      "40\n",
      "3.3996942606353624 3.400712117368591\n",
      "41\n",
      "3.3997162241230123 3.400732528281383\n",
      "42\n",
      "3.3997412646941507 3.4007559219213728\n",
      "43\n",
      "3.3997698004665144 3.4007827117061398\n",
      "44\n",
      "3.399802303851432 3.400813365233373\n",
      "45\n",
      "3.399839308112519 3.400848410852134\n",
      "46\n",
      "3.3998814146171505 3.4008884449293624\n",
      "47\n",
      "3.399929300832175 3.4009341398633666\n",
      "48\n",
      "3.3999837291140125 3.4009862528947297\n",
      "49\n",
      "3.400045556340261 3.401045635762059\n",
      "50\n",
      "3.4001157425169395 3.4011132456437583\n",
      "51\n",
      "3.4001953717526407 3.4011901546303753\n",
      "52\n",
      "3.4002856455552903 3.4012775661246555\n",
      "53\n",
      "3.4003879152449303 3.4013768242278757\n",
      "54\n",
      "3.400503686695407 3.401489430060745\n",
      "55\n",
      "3.400634637447955 3.40161705662107\n",
      "56\n",
      "3.400782632789187 3.4017615649177966\n",
      "57\n",
      "3.4009497426207966 3.4019250209021896\n",
      "58\n",
      "3.401138259006339 3.402109713081371\n",
      "59\n",
      "3.4013507142419592 3.4023181706609322\n",
      "60\n",
      "3.4015898992557565 3.4025531820208794\n",
      "61\n",
      "3.4018588820948503 3.4028178132833684\n",
      "62\n",
      "3.40216102621155 3.4031154266827643\n",
      "63\n",
      "3.402500008211596 3.403449698399804\n",
      "64\n",
      "3.402879834680183 3.4038246354741184\n",
      "65\n",
      "3.4033048576577403 3.404244591365286\n",
      "66\n",
      "3.4037797883000733 3.4047142796948577\n",
      "67\n",
      "3.404309708229613 3.405238785673613\n",
      "68\n",
      "3.4049000780697285 3.4058235747031684\n",
      "69\n",
      "3.4055567426562035 3.4064744976429115\n",
      "70\n",
      "3.406285932442679 3.407197792255645\n",
      "71\n",
      "3.4070942606638916 3.408000080392206\n",
      "72\n",
      "3.407988715871886 3.4088883605517575\n",
      "73\n",
      "3.4089766463304785 3.409869995518026\n",
      "74\n",
      "3.410065759589295 3.410952695150418\n",
      "75\n",
      "3.4112640663031395 3.4121444938163985\n",
      "76\n",
      "3.4125798873657955 3.4134537235680678\n",
      "77\n",
      "3.4140218056581704 3.414888982677474\n",
      "78\n",
      "3.415598634723051 3.4164591007095\n",
      "79\n",
      "3.4173193813968528 3.418173100906232\n",
      "80\n",
      "3.419193206994223 3.420040161083468\n",
      "81\n",
      "3.42122938845118 3.4220695744467235\n",
      "82\n",
      "3.4234372810319966 3.424270711935147\n",
      "83\n",
      "3.4258262843616416 3.4266529878599776\n",
      "84\n",
      "3.42840581364523 3.4292258307055064\n",
      "85\n",
      "3.431185277965388 3.4319986609917943\n",
      "86\n",
      "3.434174067501946 3.434980878073072\n",
      "87\n",
      "3.4373815513392603 3.438181857413097\n",
      "88\n",
      "3.4408170874285586 3.4416109603257956\n",
      "89\n",
      "3.4444900456738115 3.445277556485131\n",
      "90\n",
      "3.448409845031758 3.4491910607897065\n",
      "91\n",
      "3.4525860047461685 3.4533609843107373\n",
      "92\n",
      "3.457028209403366 3.457796999162238\n",
      "93\n",
      "3.461746386834265 3.462509016314514\n",
      "94\n",
      "3.466750797234388 3.4675072747360742\n",
      "95\n",
      "3.4720521312000163 3.472802439573462\n",
      "96\n",
      "3.4776616137133853 3.4784057064100997\n",
      "97\n",
      "3.483591110476924 3.484328908008391\n",
      "98\n",
      "3.4898532324209004 3.490584619359062\n",
      "99\n",
      "3.496461433716238 3.4971862563639515\n"
     ]
    },
    {
     "data": {
      "image/png": "[encoded data removed]",
      "text/plain": [
       "<Figure size 432x288 with 1 Axes>"
      ]
     },
     "metadata": {
      "needs_background": "light"
     },
     "output_type": "display_data"
    }
   ],
   "source": [
    "loss, weights, best_lambda = cross_validation_demo(y,tX)"
   ]
  },
  {
   "cell_type": "markdown",
   "metadata": {},
   "source": [
    "# Prediction"
   ]
  },
  {
   "cell_type": "markdown",
   "metadata": {},
   "source": [
    "#### Generate predictions and save ouput in csv format for submission"
   ]
  },
  {
   "cell_type": "code",
   "execution_count": 107,
   "metadata": {},
   "outputs": [],
   "source": [
    "OUTPUT_PATH = 'data/FIRSTsubmission.csv' \n",
    "y_pred = predict_labels(weights, tX_test)\n",
    "create_csv_submission(ids_test, y_pred, OUTPUT_PATH)"
   ]
  },
  {
   "cell_type": "markdown",
   "metadata": {},
   "source": [
    "ATTENTION: we are prediction too LESS 1"
   ]
  },
  {
   "cell_type": "code",
   "execution_count": 108,
   "metadata": {},
   "outputs": [
    {
     "name": "stdout",
     "output_type": "stream",
     "text": [
      "From 250000 test examples, 8814 are 1, i.e. the 0.035256 %\n"
     ]
    }
   ],
   "source": [
    "higgs = np.count_nonzero(y_pred==1)\n",
    "print(f'From {y_pred.shape[0]} test examples, {higgs} are 1, i.e. the {higgs/y_pred.shape[0]} %')"
   ]
  },
  {
   "cell_type": "code",
   "execution_count": null,
   "metadata": {},
   "outputs": [],
   "source": []
  }
 ],
 "metadata": {
  "anaconda-cloud": {},
  "kernelspec": {
   "display_name": "Python 3",
   "language": "python",
   "name": "python3"
  },
  "language_info": {
   "codemirror_mode": {
    "name": "ipython",
    "version": 3
   },
   "file_extension": ".py",
   "mimetype": "text/x-python",
   "name": "python",
   "nbconvert_exporter": "python",
   "pygments_lexer": "ipython3",
   "version": "3.7.6"
  }
 },
 "nbformat": 4,
 "nbformat_minor": 4
}
